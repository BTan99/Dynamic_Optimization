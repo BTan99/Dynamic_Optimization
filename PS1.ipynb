{
 "cells": [
  {
   "cell_type": "markdown",
   "metadata": {},
   "source": [
    "# Problem 1\n",
    "## 1. \n",
    "The firm's problem is \n",
    "$$\n",
    "max_{q} E[(a-bq)q - cq],\n",
    "$$\n",
    "where \n",
    "$$\n",
    "b \\sim logN(\\mu, \\sigma).\n",
    "$$\n",
    "Let $g(q) = E[(a-bq)q - cq]$, the expected profit for given quanity. Note that this function is linear in $b$. Thus\n",
    "$$\n",
    "g(q) = E[(a-bq)q - cq] = (a - E[b]q)q - cq = (a - e^{\\mu + \\frac{\\sigma^2}{2}}q)q - cq.\n",
    "$$\n",
    "So the question of the firm is now\n",
    "$$\n",
    "max_{q} {(a - e^{\\mu + \\frac{\\sigma^2}{2}}q)q - cq}.\n",
    "$$\n",
    "The FOC with respect to quantity is \n",
    "$$\n",
    "a - 2bq - c = 0,\n",
    "$$\n",
    "which gives solution\n",
    "$$\n",
    "q^* = \\frac{c - a}{2e^{\\mu + \\frac{\\sigma^2}{2}}}.\n",
    "$$\n",
    "Note that the firm cannot supply a negative quantity, so if $a \\leq c$, the firm simply stops production."
   ]
  },
  {
   "cell_type": "markdown",
   "metadata": {},
   "source": [
    "## 2."
   ]
  },
  {
   "cell_type": "code",
   "execution_count": 2,
   "metadata": {},
   "outputs": [
    {
     "name": "stderr",
     "output_type": "stream",
     "text": [
      "┌ Info: Recompiling stale cache file /Users/btan99/.julia/compiled/v1.0/InstantiateFromURL/vAXbt.ji for InstantiateFromURL [43edad99-fa64-5e4f-9937-1c09a410b73f]\n",
      "└ @ Base loading.jl:1190\n",
      "┌ Info: Recompiling stale cache file /Users/btan99/.julia/compiled/v1.0/QuantEcon/V0Mv9.ji for QuantEcon [fcd29c91-0bd7-5a09-975d-7ac3f643a60c]\n",
      "└ @ Base loading.jl:1190\n",
      "┌ Info: Recompiling stale cache file /Users/btan99/.julia/compiled/v1.0/Expectations/r1e2K.ji for Expectations [2fe49d83-0758-5602-8f54-1f90ad0d522b]\n",
      "└ @ Base loading.jl:1190\n",
      "┌ Info: Recompiling stale cache file /Users/btan99/.julia/compiled/v1.0/Interpolations/VpKVx.ji for Interpolations [a98d9a8b-a2ab-59e6-89dd-64a1c18fca59]\n",
      "└ @ Base loading.jl:1190\n",
      "┌ Info: Recompiling stale cache file /Users/btan99/.julia/compiled/v1.0/Plots/ld3vC.ji for Plots [91a5bcdd-55d7-5caf-9e0b-520d859cae80]\n",
      "└ @ Base loading.jl:1190\n",
      "┌ Info: Recompiling stale cache file /Users/btan99/.julia/compiled/v1.0/ProgressMeter/3V8n6.ji for ProgressMeter [92933f4c-e287-5a05-a399-4b506db050ca]\n",
      "└ @ Base loading.jl:1190\n"
     ]
    },
    {
     "data": {
      "text/plain": [
       "quadrature (generic function with 1 method)"
      ]
     },
     "execution_count": 2,
     "metadata": {},
     "output_type": "execute_result"
    }
   ],
   "source": [
    "using InstantiateFromURL\n",
    "activate_github(\"QuantEcon/QuantEconLectureAllPackages\", tag = \"v0.9.5\");\n",
    "using LinearAlgebra, Statistics, Compat\n",
    "using QuantEcon, QuadGK, FastGaussQuadrature, Distributions, Expectations\n",
    "using Interpolations, Plots, LaTeXStrings, ProgressMeter\n",
    "using Compat, Random\n",
    "# this might take some time\n",
    "function profit_max_q(a,c,mu,sigma,method,n)  \n",
    "    if a <= c\n",
    "        println(\"Not a valid profit function!\");\n",
    "        return 0;\n",
    "    end\n",
    "    if (method!=\"mc\")&(method!=\"quad\")\n",
    "        println(\"Not a valid option!\");\n",
    "    end\n",
    "    if method == \"mc\"\n",
    "        return monte_carlo(a,c,mu,sigma,n);\n",
    "    elseif method == \"quad\"\n",
    "        return quadrature(a,c,mu,sigma,n);\n",
    "    end\n",
    "end\n",
    "\n",
    "function monte_carlo(a,c,mu,sigma,n)\n",
    "    prob = rand(n);      #random draws of probability                       \n",
    "    b_hat = quantile.(LogNormal(mu, sigma), prob);     #used to hold estimation of b\n",
    "    quantity = collect(0:10e-6:(a/(minimum(b_hat))));    #generating a grid of quantities\n",
    "    profit = (a .- mean(b_hat)quantity).*quantity - c*quantity      #calculate profit\n",
    "    info = findmax(profit);      #record best strategy of the firm\n",
    "    return quantity[info[2]];      #return best strategy of the firm\n",
    "end\n",
    "\n",
    "function quadrature(a,c,mu,sigma,n)\n",
    "    quantity = collect(0:10e-6:exp(mu*mu + sigma*sigma));    #generating a grid of quantities; need larger lower bound \n",
    "    times = length(quantity);      #get the length of the vector\n",
    "    dist = LogNormal(mu, sigma);      #density of b\n",
    "    kernel = expectation(dist);\n",
    "    index = 1;       #initialize loop control\n",
    "    profit = zeros(length(quantity));      #initialize profit vector\n",
    "    node, weight = qnwlege(n, 0, 100);      #nodes and weights used in integration\n",
    "    \n",
    "    while index <= times      #this loop computes the expected profit for given quantities\n",
    "        g(b) = pdf.(LogNormal(mu,sigma), b)*((a - b*quantity[index])*quantity[index] - c*quantity[index]);\n",
    "        profit[index] = weight ⋅ g.(node);\n",
    "        index = index + 1;\n",
    "    end\n",
    "    \n",
    "    info = findmax(profit);      #record best strategy of the firm\n",
    "    return quantity[info[2]];      #return best strategy of the firm\n",
    "end\n"
   ]
  },
  {
   "cell_type": "markdown",
   "metadata": {},
   "source": [
    "## 3. "
   ]
  },
  {
   "cell_type": "code",
   "execution_count": 4,
   "metadata": {},
   "outputs": [
    {
     "data": {
      "text/plain": [
       "0.12171000000000001"
      ]
     },
     "execution_count": 4,
     "metadata": {},
     "output_type": "execute_result"
    }
   ],
   "source": [
    "#initial values\n",
    "a = 2;\n",
    "c = 1; \n",
    "mu = 1;\n",
    "sigma = 1;\n",
    "n = 10;\n",
    "\n",
    "profit_max_q(a,c,mu,sigma,\"quad\",n)      #numerical integration is slow\n",
    "profit_max_q(a,c,mu,sigma,\"mc\",n)\n",
    "\n",
    "#another set of values\n",
    "a = 4;\n",
    "c = 2; \n",
    "mu = 1.5;\n",
    "sigma = 0.9;\n",
    "n = 50;\n",
    "\n",
    "profit_max_q(a,c,mu,sigma,\"quad\",n)      #numerical integration is slow\n",
    "profit_max_q(a,c,mu,sigma,\"mc\",n)\n",
    "\n"
   ]
  },
  {
   "cell_type": "markdown",
   "metadata": {},
   "source": [
    "# Problem 2"
   ]
  },
  {
   "cell_type": "code",
   "execution_count": 63,
   "metadata": {},
   "outputs": [
    {
     "data": {
      "text/plain": [
       "3.14568"
      ]
     },
     "execution_count": 63,
     "metadata": {},
     "output_type": "execute_result"
    }
   ],
   "source": [
    "n = 100000;\n",
    "x = rand(n);      #random vector in the first coordinate\n",
    "y = rand(n);      #random vector in the second coordinate\n",
    "index = 1;      #initialize index\n",
    "count = 0;      #initialize the number points that fall into the unit circle\n",
    "while index <= n\n",
    "    if (x[index] - 0.5)^2 + (y[index] - 0.5)^2 <= 0.25\n",
    "        count += 1;\n",
    "    end\n",
    "    index += 1;\n",
    "end\n",
    "\n",
    "pi_hat = (count/n)*4      #estimate pi"
   ]
  },
  {
   "cell_type": "markdown",
   "metadata": {},
   "source": [
    "# Problem 3\n",
    "## N/A"
   ]
  },
  {
   "cell_type": "markdown",
   "metadata": {},
   "source": [
    "## Problem 4\n",
    "# 1."
   ]
  },
  {
   "cell_type": "code",
   "execution_count": 78,
   "metadata": {},
   "outputs": [],
   "source": [
    "v_0 = rand(20000,20000);      #generate a 20000 * 20000 random vector"
   ]
  },
  {
   "cell_type": "markdown",
   "metadata": {},
   "source": [
    "## 2."
   ]
  },
  {
   "cell_type": "code",
   "execution_count": 74,
   "metadata": {},
   "outputs": [
    {
     "data": {
      "text/plain": [
       "exp_cols (generic function with 1 method)"
      ]
     },
     "execution_count": 74,
     "metadata": {},
     "output_type": "execute_result"
    }
   ],
   "source": [
    "function exp_cols(v)\n",
    "    index = 1;      #initialize index\n",
    "    while index <= 20000\n",
    "        v[:, index] = exp.(v[:, index])\n",
    "        index += 1;\n",
    "    end\n",
    "    return v;\n",
    "end"
   ]
  },
  {
   "cell_type": "markdown",
   "metadata": {},
   "source": [
    "## 3."
   ]
  },
  {
   "cell_type": "code",
   "execution_count": 80,
   "metadata": {},
   "outputs": [
    {
     "data": {
      "text/plain": [
       "exp_rows (generic function with 1 method)"
      ]
     },
     "execution_count": 80,
     "metadata": {},
     "output_type": "execute_result"
    }
   ],
   "source": [
    "function exp_rows(v)\n",
    "    index = 1;      #initialize index\n",
    "    while index <= 20000\n",
    "        v[index, :] = exp.(v[index, :]);\n",
    "        index += 1;\n",
    "    end\n",
    "    return v;\n",
    "end"
   ]
  },
  {
   "cell_type": "markdown",
   "metadata": {},
   "source": [
    "## 4. "
   ]
  },
  {
   "cell_type": "code",
   "execution_count": 103,
   "metadata": {},
   "outputs": [
    {
     "name": "stdout",
     "output_type": "stream",
     "text": [
      "The difference of running time column vs row is 16.895963664\n"
     ]
    }
   ],
   "source": [
    "exp_cols(v_0);\n",
    "t_1 = @elapsed exp_cols(v_0);\n",
    "\n",
    "exp_rows(v_0);\n",
    "t_2 = @elapsed exp_rows(v_0);\n",
    "\n",
    "println(\"The difference of running time column vs row is \",  t_2 - t_1 )      #calculate the difference"
   ]
  },
  {
   "cell_type": "markdown",
   "metadata": {},
   "source": [
    "## 5. "
   ]
  },
  {
   "cell_type": "markdown",
   "metadata": {},
   "source": [
    "We see that exponentiation by rows is more costly than by columnns."
   ]
  }
 ],
 "metadata": {
  "kernelspec": {
   "display_name": "Julia 1.0.3",
   "language": "julia",
   "name": "julia-1.0"
  },
  "language_info": {
   "file_extension": ".jl",
   "mimetype": "application/julia",
   "name": "julia",
   "version": "1.0.3"
  }
 },
 "nbformat": 4,
 "nbformat_minor": 2
}
